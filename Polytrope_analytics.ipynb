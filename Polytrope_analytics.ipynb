{
 "cells": [
  {
   "cell_type": "code",
   "execution_count": 1,
   "id": "655f82f2",
   "metadata": {},
   "outputs": [],
   "source": [
    "import sympy as sym\n",
    "sym.init_printing()"
   ]
  },
  {
   "cell_type": "code",
   "execution_count": 2,
   "id": "75d24a63",
   "metadata": {},
   "outputs": [],
   "source": [
    "β, Ri, Ro, c0, c1, Δ = sym.symbols('β, Ri, Ro, c0, c1, Δ', real=True, positive=True, nonzero=True, finite=True)\n",
    "r = sym.symbols('r', real=True, positive=True, nonzero=True, finite=True)"
   ]
  },
  {
   "cell_type": "code",
   "execution_count": 3,
   "id": "8b5e4038",
   "metadata": {},
   "outputs": [],
   "source": [
    "A = sym.Matrix([[1/Ri, 1],\n",
    "                [1/Ro, 1]])\n",
    "    \n",
    "x = sym.Matrix([[c0],[c1]])   \n",
    "b = sym.Matrix([[1],[Δ]])   "
   ]
  },
  {
   "cell_type": "code",
   "execution_count": 4,
   "id": "5b3ea4a7",
   "metadata": {},
   "outputs": [
    {
     "data": {
      "image/png": "[encoded data removed]",
      "text/latex": [
       "$\\displaystyle \\left[\\begin{matrix}\\frac{1}{Ri} & 1\\\\\\frac{1}{Ro} & 1\\end{matrix}\\right]$"
      ],
      "text/plain": [
       "⎡1    ⎤\n",
       "⎢──  1⎥\n",
       "⎢Ri   ⎥\n",
       "⎢     ⎥\n",
       "⎢1    ⎥\n",
       "⎢──  1⎥\n",
       "⎣Ro   ⎦"
      ]
     },
     "metadata": {},
     "output_type": "display_data"
    },
    {
     "data": {
      "image/png": "[encoded data removed]",
      "text/latex": [
       "$\\displaystyle \\left[\\begin{matrix}c_{0}\\\\c_{1}\\end{matrix}\\right]$"
      ],
      "text/plain": [
       "⎡c₀⎤\n",
       "⎢  ⎥\n",
       "⎣c₁⎦"
      ]
     },
     "metadata": {},
     "output_type": "display_data"
    },
    {
     "data": {
      "text/latex": [
       "$\\displaystyle \\left[\\begin{matrix}1\\\\Δ\\end{matrix}\\right]$"
      ],
      "text/plain": [
       "⎡1⎤\n",
       "⎢ ⎥\n",
       "⎣Δ⎦"
      ]
     },
     "metadata": {},
     "output_type": "display_data"
    },
    {
     "data": {
      "image/png": "[encoded data removed]",
      "text/latex": [
       "$\\displaystyle \\left[\\begin{matrix}c_{1} + \\frac{c_{0}}{Ri}\\\\c_{1} + \\frac{c_{0}}{Ro}\\end{matrix}\\right]$"
      ],
      "text/plain": [
       "⎡     c₀⎤\n",
       "⎢c₁ + ──⎥\n",
       "⎢     Ri⎥\n",
       "⎢       ⎥\n",
       "⎢     c₀⎥\n",
       "⎢c₁ + ──⎥\n",
       "⎣     Ro⎦"
      ]
     },
     "metadata": {},
     "output_type": "display_data"
    }
   ],
   "source": [
    "display(A)\n",
    "display(x)\n",
    "display(b)\n",
    "display(A@x)"
   ]
  },
  {
   "cell_type": "code",
   "execution_count": 5,
   "id": "90ce754c",
   "metadata": {},
   "outputs": [
    {
     "data": {
      "image/png": "[encoded data removed]",
      "text/latex": [
       "$\\displaystyle \\left[\\begin{matrix}\\frac{1}{- \\frac{1}{Ro} + \\frac{1}{Ri}} & - \\frac{1}{- \\frac{1}{Ro} + \\frac{1}{Ri}}\\\\- \\frac{1}{-1 + \\frac{Ro}{Ri}} & \\frac{1}{- \\frac{Ri}{Ro} + 1}\\end{matrix}\\right]$"
      ],
      "text/plain": [
       "⎡    1         -1    ⎤\n",
       "⎢─────────  ─────────⎥\n",
       "⎢  1    1     1    1 ⎥\n",
       "⎢- ── + ──  - ── + ──⎥\n",
       "⎢  Ro   Ri    Ro   Ri⎥\n",
       "⎢                    ⎥\n",
       "⎢   -1         1     ⎥\n",
       "⎢ ───────   ──────── ⎥\n",
       "⎢      Ro     Ri     ⎥\n",
       "⎢ -1 + ──   - ── + 1 ⎥\n",
       "⎣      Ri     Ro     ⎦"
      ]
     },
     "metadata": {},
     "output_type": "display_data"
    }
   ],
   "source": [
    "A_inv = A.inv()\n",
    "display(A_inv)"
   ]
  },
  {
   "cell_type": "code",
   "execution_count": 6,
   "id": "c5e7d817",
   "metadata": {},
   "outputs": [
    {
     "data": {
      "text/latex": [
       "$\\displaystyle \\left[\\begin{matrix}- \\frac{Δ}{- \\frac{1}{Ro} + \\frac{1}{Ri}} + \\frac{1}{- \\frac{1}{Ro} + \\frac{1}{Ri}}\\\\\\frac{Δ}{- \\frac{Ri}{Ro} + 1} - \\frac{1}{-1 + \\frac{Ro}{Ri}}\\end{matrix}\\right]$"
      ],
      "text/plain": [
       "⎡      Δ           1    ⎤\n",
       "⎢- ───────── + ─────────⎥\n",
       "⎢    1    1      1    1 ⎥\n",
       "⎢  - ── + ──   - ── + ──⎥\n",
       "⎢    Ro   Ri     Ro   Ri⎥\n",
       "⎢                       ⎥\n",
       "⎢     Δ          1      ⎥\n",
       "⎢  ──────── - ───────   ⎥\n",
       "⎢    Ri            Ro   ⎥\n",
       "⎢  - ── + 1   -1 + ──   ⎥\n",
       "⎣    Ro            Ri   ⎦"
      ]
     },
     "metadata": {},
     "output_type": "display_data"
    }
   ],
   "source": [
    "C = A_inv@b\n",
    "display(C)"
   ]
  },
  {
   "cell_type": "code",
   "execution_count": 7,
   "id": "9581b7b8",
   "metadata": {},
   "outputs": [
    {
     "data": {
      "image/png": "[encoded data removed]",
      "text/latex": [
       "$\\displaystyle \\frac{Ri Ro \\left(Δ - 1\\right)}{Ri - Ro}$"
      ],
      "text/plain": [
       "Ri⋅Ro⋅(Δ - 1)\n",
       "─────────────\n",
       "   Ri - Ro   "
      ]
     },
     "execution_count": 7,
     "metadata": {},
     "output_type": "execute_result"
    }
   ],
   "source": [
    "C[0].simplify()"
   ]
  },
  {
   "cell_type": "code",
   "execution_count": 8,
   "id": "0aa8f64a",
   "metadata": {},
   "outputs": [
    {
     "data": {
      "image/png": "[encoded data removed]",
      "text/latex": [
       "$\\displaystyle \\frac{Ri - Ro Δ}{Ri - Ro}$"
      ],
      "text/plain": [
       "Ri - Ro⋅Δ\n",
       "─────────\n",
       " Ri - Ro "
      ]
     },
     "execution_count": 8,
     "metadata": {},
     "output_type": "execute_result"
    }
   ],
   "source": [
    "C[1].simplify()"
   ]
  },
  {
   "cell_type": "code",
   "execution_count": 9,
   "id": "c2bfd667",
   "metadata": {},
   "outputs": [],
   "source": [
    "T = C[0]/r + C[1]"
   ]
  },
  {
   "cell_type": "code",
   "execution_count": 10,
   "id": "91de8d24",
   "metadata": {},
   "outputs": [
    {
     "data": {
      "image/png": "[encoded data removed]",
      "text/latex": [
       "$\\displaystyle 1$"
      ],
      "text/plain": [
       "1"
      ]
     },
     "execution_count": 10,
     "metadata": {},
     "output_type": "execute_result"
    }
   ],
   "source": [
    "sym.simplify(T.subs(r, Ri).subs(Ro, 1))"
   ]
  },
  {
   "cell_type": "code",
   "execution_count": 11,
   "id": "f5635d16",
   "metadata": {},
   "outputs": [
    {
     "data": {
      "image/png": "[encoded data removed]",
      "text/latex": [
       "$\\displaystyle Δ$"
      ],
      "text/plain": [
       "Δ"
      ]
     },
     "execution_count": 11,
     "metadata": {},
     "output_type": "execute_result"
    }
   ],
   "source": [
    "sym.simplify(T.subs(r, Ro).subs(Ro, 1))"
   ]
  }
 ],
 "metadata": {
  "kernelspec": {
   "display_name": "Python 3 (ipykernel)",
   "language": "python",
   "name": "python3"
  },
  "language_info": {
   "codemirror_mode": {
    "name": "ipython",
    "version": 3
   },
   "file_extension": ".py",
   "mimetype": "text/x-python",
   "name": "python",
   "nbconvert_exporter": "python",
   "pygments_lexer": "ipython3",
   "version": "3.10.9"
  }
 },
 "nbformat": 4,
 "nbformat_minor": 5
}
