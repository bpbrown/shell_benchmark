{
 "cells": [
  {
   "cell_type": "markdown",
   "id": "c1f7f6d2",
   "metadata": {},
   "source": [
    "Polytropic solutions in the sphere have a base state in thermal equilibrium.  From the temperature equation:\n",
    "\\begin{equation}\n",
    "    \\nabla \\cdot K \\nabla T = 0\n",
    "\\end{equation}\n",
    "or in a sphere, with $K$ constant:\n",
    "\\begin{equation}\n",
    "    \\frac{1}{r^2}\\frac{\\partial}{\\partial r}\\left(r^2 \\frac{\\partial}{\\partial r} T \\right) = 0.\n",
    "\\end{equation}\n",
    "The solution to this is:\n",
    "\\begin{equation}\n",
    "    T(r) = c_0 + \\frac{c_1}{r}\n",
    "\\end{equation}\n",
    "Here, we solve for $c_0$ and $c_1$, given:\n",
    "\\begin{align}\n",
    "r_0 &= 1,\\\\ \n",
    "T(r_i) &= 1, \\\\\n",
    "T(r_0) &= T(1) = \\exp(-n_h) = \\Delta\n",
    "\\end{align}"
   ]
  },
  {
   "cell_type": "code",
   "execution_count": 1,
   "id": "25e00e8c",
   "metadata": {},
   "outputs": [],
   "source": [
    "import sympy as sym\n",
    "sym.init_printing()"
   ]
  },
  {
   "cell_type": "code",
   "execution_count": 2,
   "id": "c61c1c28",
   "metadata": {},
   "outputs": [],
   "source": [
    "β, Ri, Ro, c0, c1, Δ = sym.symbols('β, Ri, Ro, c0, c1, Δ', real=True, positive=True, nonzero=True, finite=True)\n",
    "r = sym.symbols('r', real=True, positive=True, nonzero=True, finite=True)"
   ]
  },
  {
   "cell_type": "code",
   "execution_count": 3,
   "id": "79d62471",
   "metadata": {},
   "outputs": [],
   "source": [
    "A = sym.Matrix([[1, 1/Ri],\n",
    "                [1, 1/Ro]])\n",
    "    \n",
    "x = sym.Matrix([[c0],[c1]])   \n",
    "b = sym.Matrix([[1],[Δ]])   "
   ]
  },
  {
   "cell_type": "code",
   "execution_count": 4,
   "id": "4b338870",
   "metadata": {},
   "outputs": [
    {
     "data": {
      "image/png": "[encoded data removed]",
      "text/latex": [
       "$\\displaystyle \\left[\\begin{matrix}1 & \\frac{1}{Ri}\\\\1 & \\frac{1}{Ro}\\end{matrix}\\right]$"
      ],
      "text/plain": [
       "⎡   1 ⎤\n",
       "⎢1  ──⎥\n",
       "⎢   Ri⎥\n",
       "⎢     ⎥\n",
       "⎢   1 ⎥\n",
       "⎢1  ──⎥\n",
       "⎣   Ro⎦"
      ]
     },
     "metadata": {},
     "output_type": "display_data"
    },
    {
     "data": {
      "image/png": "[encoded data removed]",
      "text/latex": [
       "$\\displaystyle \\left[\\begin{matrix}c_{0}\\\\c_{1}\\end{matrix}\\right]$"
      ],
      "text/plain": [
       "⎡c₀⎤\n",
       "⎢  ⎥\n",
       "⎣c₁⎦"
      ]
     },
     "metadata": {},
     "output_type": "display_data"
    },
    {
     "data": {
      "text/latex": [
       "$\\displaystyle \\left[\\begin{matrix}1\\\\Δ\\end{matrix}\\right]$"
      ],
      "text/plain": [
       "⎡1⎤\n",
       "⎢ ⎥\n",
       "⎣Δ⎦"
      ]
     },
     "metadata": {},
     "output_type": "display_data"
    },
    {
     "data": {
      "image/png": "[encoded data removed]",
      "text/latex": [
       "$\\displaystyle \\left[\\begin{matrix}c_{0} + \\frac{c_{1}}{Ri}\\\\c_{0} + \\frac{c_{1}}{Ro}\\end{matrix}\\right]$"
      ],
      "text/plain": [
       "⎡     c₁⎤\n",
       "⎢c₀ + ──⎥\n",
       "⎢     Ri⎥\n",
       "⎢       ⎥\n",
       "⎢     c₁⎥\n",
       "⎢c₀ + ──⎥\n",
       "⎣     Ro⎦"
      ]
     },
     "metadata": {},
     "output_type": "display_data"
    }
   ],
   "source": [
    "display(A)\n",
    "display(x)\n",
    "display(b)\n",
    "display(A@x)"
   ]
  },
  {
   "cell_type": "code",
   "execution_count": 5,
   "id": "36e8c26d",
   "metadata": {},
   "outputs": [
    {
     "data": {
      "image/png": "[encoded data removed]",
      "text/latex": [
       "$\\displaystyle \\left[\\begin{matrix}\\frac{1}{1 - \\frac{Ro}{Ri}} & - \\frac{1}{\\frac{Ri}{Ro} - 1}\\\\- \\frac{1}{\\frac{1}{Ro} - \\frac{1}{Ri}} & \\frac{1}{\\frac{1}{Ro} - \\frac{1}{Ri}}\\end{matrix}\\right]$"
      ],
      "text/plain": [
       "⎡  1       -1    ⎤\n",
       "⎢──────   ────── ⎥\n",
       "⎢    Ro   Ri     ⎥\n",
       "⎢1 - ──   ── - 1 ⎥\n",
       "⎢    Ri   Ro     ⎥\n",
       "⎢                ⎥\n",
       "⎢  -1        1   ⎥\n",
       "⎢───────  ───────⎥\n",
       "⎢1    1   1    1 ⎥\n",
       "⎢── - ──  ── - ──⎥\n",
       "⎣Ro   Ri  Ro   Ri⎦"
      ]
     },
     "metadata": {},
     "output_type": "display_data"
    }
   ],
   "source": [
    "A_inv = A.inv()\n",
    "display(A_inv)"
   ]
  },
  {
   "cell_type": "code",
   "execution_count": 6,
   "id": "e3bc32d9",
   "metadata": {},
   "outputs": [
    {
     "data": {
      "text/latex": [
       "$\\displaystyle \\left[\\begin{matrix}- \\frac{Δ}{\\frac{Ri}{Ro} - 1} + \\frac{1}{1 - \\frac{Ro}{Ri}}\\\\\\frac{Δ}{\\frac{1}{Ro} - \\frac{1}{Ri}} - \\frac{1}{\\frac{1}{Ro} - \\frac{1}{Ri}}\\end{matrix}\\right]$"
      ],
      "text/plain": [
       "⎡    Δ        1   ⎤\n",
       "⎢- ────── + ──────⎥\n",
       "⎢  Ri           Ro⎥\n",
       "⎢  ── - 1   1 - ──⎥\n",
       "⎢  Ro           Ri⎥\n",
       "⎢                 ⎥\n",
       "⎢   Δ         1   ⎥\n",
       "⎢─────── - ───────⎥\n",
       "⎢1    1    1    1 ⎥\n",
       "⎢── - ──   ── - ──⎥\n",
       "⎣Ro   Ri   Ro   Ri⎦"
      ]
     },
     "metadata": {},
     "output_type": "display_data"
    }
   ],
   "source": [
    "C = A_inv@b\n",
    "display(C)"
   ]
  },
  {
   "cell_type": "code",
   "execution_count": 7,
   "id": "f62e17b2",
   "metadata": {},
   "outputs": [
    {
     "data": {
      "image/png": "[encoded data removed]",
      "text/latex": [
       "$\\displaystyle \\frac{Ri - Ro Δ}{Ri - Ro}$"
      ],
      "text/plain": [
       "Ri - Ro⋅Δ\n",
       "─────────\n",
       " Ri - Ro "
      ]
     },
     "execution_count": 7,
     "metadata": {},
     "output_type": "execute_result"
    }
   ],
   "source": [
    "C[0].simplify()"
   ]
  },
  {
   "cell_type": "code",
   "execution_count": 8,
   "id": "6d8ef508",
   "metadata": {},
   "outputs": [
    {
     "data": {
      "image/png": "[encoded data removed]",
      "text/latex": [
       "$\\displaystyle \\frac{Ri Ro \\left(Δ - 1\\right)}{Ri - Ro}$"
      ],
      "text/plain": [
       "Ri⋅Ro⋅(Δ - 1)\n",
       "─────────────\n",
       "   Ri - Ro   "
      ]
     },
     "execution_count": 8,
     "metadata": {},
     "output_type": "execute_result"
    }
   ],
   "source": [
    "C[1].simplify()"
   ]
  },
  {
   "cell_type": "code",
   "execution_count": 9,
   "id": "ad5ea4ea",
   "metadata": {},
   "outputs": [],
   "source": [
    "T = C[0] + C[1]/r"
   ]
  },
  {
   "cell_type": "code",
   "execution_count": 10,
   "id": "329a635e",
   "metadata": {},
   "outputs": [
    {
     "data": {
      "image/png": "[encoded data removed]",
      "text/latex": [
       "$\\displaystyle 1$"
      ],
      "text/plain": [
       "1"
      ]
     },
     "execution_count": 10,
     "metadata": {},
     "output_type": "execute_result"
    }
   ],
   "source": [
    "sym.simplify(T.subs(r, Ri).subs(Ro, 1))"
   ]
  },
  {
   "cell_type": "code",
   "execution_count": 11,
   "id": "0c4d7811",
   "metadata": {},
   "outputs": [
    {
     "data": {
      "image/png": "[encoded data removed]",
      "text/latex": [
       "$\\displaystyle Δ$"
      ],
      "text/plain": [
       "Δ"
      ]
     },
     "execution_count": 11,
     "metadata": {},
     "output_type": "execute_result"
    }
   ],
   "source": [
    "sym.simplify(T.subs(r, Ro).subs(Ro, 1))"
   ]
  }
 ],
 "metadata": {
  "kernelspec": {
   "display_name": "Python 3 (ipykernel)",
   "language": "python",
   "name": "python3"
  },
  "language_info": {
   "codemirror_mode": {
    "name": "ipython",
    "version": 3
   },
   "file_extension": ".py",
   "mimetype": "text/x-python",
   "name": "python",
   "nbconvert_exporter": "python",
   "pygments_lexer": "ipython3",
   "version": "3.10.9"
  }
 },
 "nbformat": 4,
 "nbformat_minor": 5
}
